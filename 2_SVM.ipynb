{
    "cells": [
        {
            "cell_type": "markdown", 
            "source": "# Spark\u306b\u3088\u308b\u6a5f\u68b0\u5b66\u7fd2\u30c7\u30e2\n## \u30b5\u30dd\u30fc\u30c8\u30d9\u30af\u30bf\u30de\u30b7\u30f3\u3092\u4f7f\u3063\u305f\u5206\u985e\u3092\u5b9f\u884c\u3057\u307e\u3059\n", 
            "metadata": {}
        }, 
        {
            "cell_type": "markdown", 
            "source": "\u5143\u30cd\u30bf\uff1ahttp://next.rikunabi.com/tech/docs/ct_s03600.jsp?p=002315<br>\n\u7b2c1\u554f\uff1a\u300c\u91d1\u8ca8\u306e\u771f\u8d0b\u3092\u898b\u5206\u3051\u3088\u3046\u300d<br>\n\u4e0e\u3048\u3089\u308c\u305f\u30c7\u30fc\u30bf\uff08\u30b3\u30a4\u30f3100\u679a\u5206\uff09\u3092\u6559\u5e2b\u3068\u3059\u308b\u3001\u30af\u30e9\u30b9\u5206\u985e\uff08\u6559\u5e2b\u3042\u308a\u5b66\u7fd2\uff09\u554f\u984c\u3067\u3059\u3002<br>\n\u6559\u5e2b\u3042\u308a\u5b66\u7fd2\uff08Supervised Learning\uff09\u3068\u306f\u3001\u5206\u985e\u6e08\u307f\u306e\u30c7\u30fc\u30bf\u3092\u8a13\u7df4\u30c7\u30fc\u30bf\u3068\u3057\u3066\u7528\u3044\u308b\u3053\u3068\u304c\u3067\u304d\u308b\u72b6\u6cc1\u3067\u3001<br>\n\u65b0\u305f\u306b\u4e0e\u3048\u3089\u308c\u305f\u30c7\u30fc\u30bf\u306b\u5bfe\u3057\u5206\u985e\u3084\u56de\u5e30\u3092\u884c\u3046\u624b\u6cd5\u3067\u3059\u3002\n", 
            "metadata": {}
        }, 
        {
            "cell_type": "code", 
            "execution_count": 1, 
            "outputs": [], 
            "source": "from pyspark.mllib.classification import SVMWithSGD, SVMModel\nfrom pyspark.mllib.regression import LabeledPoint\n\nimport numpy as np\nimport brunel", 
            "metadata": {
                "collapsed": false
            }
        }, 
        {
            "cell_type": "code", 
            "execution_count": 2, 
            "outputs": [
                {
                    "output_type": "stream", 
                    "text": "CodeIQ_mycoins.txt exists.\nCodeIQ_eaten.txt exists.\n", 
                    "name": "stdout"
                }
            ], 
            "source": "if os.path.isfile(\"CodeIQ_mycoins.txt\") != True:\n    !wget http://dl.dropbox.com/u/110505645/CodeIQ/20121109/CodeIQ_mycoins.zip\n    !unzip -j  CodeIQ_mycoins.zip\n    !rm -rf CodeIQ_mycoins.zip \n    print \"Complete Unzip -> CodeIQ_mycoins.txt.\"\nelse:\n    print \"CodeIQ_mycoins.txt exists.\"\n\nif os.path.isfile(\"CodeIQ_auth.txt\") != True:\n    !wget http://dl.dropbox.com/u/110505645/CodeIQ/20121109/CodeIQ_auth.zip\n    !unzip -j  CodeIQ_auth.zip\n    !rm -rf CodeIQ_auth.zip \n    print  \"CodeIQ_auth.txt exists.\"\nelse:\n    print \"CodeIQ_eaten.txt exists.\"", 
            "metadata": {
                "collapsed": false
            }
        }, 
        {
            "cell_type": "markdown", 
            "source": "<h2>\u6b63\u3057\u3044\u30c7\u30fc\u30bf\uff08\u6559\u5e2b\u30c7\u30fc\u30bf\uff09\u3092\u30b0\u30e9\u30d5\u5316\u3057\u307e\u3059</h2>", 
            "metadata": {}
        }, 
        {
            "cell_type": "code", 
            "execution_count": 3, 
            "outputs": [
                {
                    "output_type": "stream", 
                    "text": "[u'0.745', u'14.385', u'1']\n", 
                    "name": "stdout"
                }
            ], 
            "source": "codeauth = sc.textFile(\"/gpfs/global_fs01/sym_shared/YPProdSpark/user/s7d0-33d8c3dc5a198f-0f44a58531ac/notebook/work/CodeIQ_auth.txt\").map(lambda line: line.split(\" \"))\nprint codeauth.first()", 
            "metadata": {
                "collapsed": false
            }
        }, 
        {
            "cell_type": "code", 
            "execution_count": 9, 
            "outputs": [
                {
                    "output_type": "display_data", 
                    "metadata": {}, 
                    "data": {
                        "text/html": "<!--\n  ~ Copyright (c) 2015 IBM Corporation and others.\n  ~\n  ~ Licensed under the Apache License, Version 2.0 (the \"License\");\n  ~ You may not use this file except in compliance with the License.\n  ~ You may obtain a copy of the License at\n  ~\n  ~     http://www.apache.org/licenses/LICENSE-2.0\n  ~\n  ~ Unless required by applicable law or agreed to in writing, software\n  ~ distributed under the License is distributed on an \"AS IS\" BASIS,\n  ~ WITHOUT WARRANTIES OR CONDITIONS OF ANY KIND, either express or implied.\n  ~ See the License for the specific language governing permissions and\n  ~ limitations under the License.\n  -->\n\n\n<link rel=\"stylesheet\" type=\"text/css\" href=\"/data/jupyter2/c6625756-713d-4478-97d0-33d8c3dc5a19/nbextensions/brunel_ext/brunel.2.0.css\">\n<link rel=\"stylesheet\" type=\"text/css\" href=\"/data/jupyter2/c6625756-713d-4478-97d0-33d8c3dc5a19/nbextensions/brunel_ext/sumoselect.css\">\n\n<style>\n    \n</style>\n\n<div id=\"controlsid3b5a48d4-2445-11e7-8bc6-002590fb6afc\" class=\"brunel\"/>\n<svg id=\"visid3b5a4654-2445-11e7-8bc6-002590fb6afc\" width=\"500\" height=\"400\"></svg>", 
                        "text/plain": "<IPython.core.display.HTML object>"
                    }
                }, 
                {
                    "execution_count": 9, 
                    "output_type": "execute_result", 
                    "metadata": {}, 
                    "data": {
                        "application/javascript": "/*\n * Copyright (c) 2015 IBM Corporation and others.\n *\n * Licensed under the Apache License, Version 2.0 (the \"License\");\n * You may not use this file except in compliance with the License.\n * You may obtain a copy of the License at\n *\n *     http://www.apache.org/licenses/LICENSE-2.0\n *\n * Unless required by applicable law or agreed to in writing, software\n * distributed under the License is distributed on an \"AS IS\" BASIS,\n * WITHOUT WARRANTIES OR CONDITIONS OF ANY KIND, either express or implied.\n * See the License for the specific language governing permissions and\n * limitations under the License.\n */\n\nrequire.config({\n    waitSeconds: 60,\n    paths: {\n        'd3': '//cdnjs.cloudflare.com/ajax/libs/d3/4.2.1/d3.min',\n        'topojson': '//cdnjs.cloudflare.com/ajax/libs/topojson/1.6.20/topojson.min',\n        'brunel' : '/data/jupyter2/c6625756-713d-4478-97d0-33d8c3dc5a19/nbextensions/brunel_ext/brunel.2.0.min',\n        'brunelControls' : '/data/jupyter2/c6625756-713d-4478-97d0-33d8c3dc5a19/nbextensions/brunel_ext/brunel.controls.2.0.min'\n    },\n    shim: {\n       'brunel' : {\n            exports: 'BrunelD3',\n            deps: ['d3', 'topojson'],\n            init: function() {\n               return {\n                 BrunelD3 : BrunelD3,\n                 BrunelData : BrunelData\n              }\n            }\n        },\n       'brunelControls' : {\n            exports: 'BrunelEventHandlers',\n            init: function() {\n               return {\n                 BrunelEventHandlers: BrunelEventHandlers,\n                 BrunelJQueryControlFactory: BrunelJQueryControlFactory\n              }\n            }\n        }\n\n    }\n\n});\n\nrequire([\"d3\"], function(d3) {\n    require([\"brunel\", \"brunelControls\"], function(brunel, brunelControls) {\n        function  BrunelVis(visId) {\n  \"use strict\"; // Strict Mode\n  var datasets = [],                               // Array of datasets for the original data\n      pre = function(d, i) { return d },           // Default pre-process does nothing\n      post = function(d, i) { return d },          // Default post-process does nothing\n      transitionTime = 200,                        // Transition time for animations\n      charts = [],                                 // The charts in the system\n      hasData = function(d) {return d && (d.row != null || hasData(d.data))}, // Filters to data items\n      vis = d3.select('#' + visId).attr('class', 'brunel');  // the SVG container\n\n  // Define chart #1 in the visualization //////////////////////////////////////////////////////////\n\n  charts[0] = function(parentNode, filterRows) {\n    var geom = BrunelD3.geometry(parentNode || vis.node(), 0, 0, 1, 1, 5, 46, 39, 63),\n      elements = [];                               // Array of elements in this chart\n\n    // Define groups for the chart parts ///////////////////////////////////////////////////////////\n\n    var chart =  vis.append('g').attr('class', 'chart1')\n      .attr('transform','translate(' + geom.chart_left + ',' + geom.chart_top + ')');\n    var overlay = chart.append('g').attr('class', 'element')\n      .attr('class', 'overlay').style('cursor','move').style('fill','none').style('pointer-events','all');\n    var zoom = d3.zoom().scaleExtent([1/3,3]);\n    var zoomNode = overlay.append('rect').attr('class', 'overlay')\n      .attr('x', geom.inner_left).attr('y', geom.inner_top)\n      .attr('width', geom.inner_rawWidth).attr('height', geom.inner_rawHeight)\n      .call(zoom)\n      .node();\n    zoomNode.__zoom = d3.zoomIdentity;\n    chart.append('rect').attr('class', 'background').attr('width', geom.chart_right-geom.chart_left).attr('height', geom.chart_bottom-geom.chart_top);\n    var interior = chart.append('g').attr('class', 'interior')\n      .attr('transform','translate(' + geom.inner_left + ',' + geom.inner_top + ')')\n      .attr('clip-path', 'url(#clip_visid3b5a4654-2445-11e7-8bc6-002590fb6afc_chart1_inner)');\n    interior.append('rect').attr('class', 'inner').attr('width', geom.inner_width).attr('height', geom.inner_height);\n    var gridGroup = interior.append('g').attr('class', 'grid');\n    var axes = chart.append('g').attr('class', 'axis')\n      .attr('transform','translate(' + geom.inner_left + ',' + geom.inner_top + ')');\n    var legends = chart.append('g').attr('class', 'legend')\n      .attr('transform','translate(' + (geom.chart_right-geom.chart_left - 3) + ',' + 0 + ')');\n    vis.append('clipPath').attr('id', 'clip_visid3b5a4654-2445-11e7-8bc6-002590fb6afc_chart1_inner').append('rect')\n      .attr('x', 0).attr('y', 0)\n      .attr('width', geom.inner_rawWidth+1).attr('height', geom.inner_rawHeight+1);\n\n    // Scales //////////////////////////////////////////////////////////////////////////////////////\n\n    var scale_x = d3.scaleLinear()\n      .domain([0.3, 1.3000001])\n      .range([0, geom.inner_width]);\n    var scale_inner = d3.scaleLinear().domain([0,1])\n      .range([-0.5, 0.5]);\n    var scale_y = d3.scaleLinear()\n      .domain([0, 22.000002])\n      .range([geom.inner_height, 0]);\n    var base_scales = [scale_x, scale_y];          // Untransformed original scales\n\n    // Axes ////////////////////////////////////////////////////////////////////////////////////////\n\n    axes.append('g').attr('class', 'x axis')\n      .attr('transform','translate(0,' + geom.inner_rawHeight + ')')\n      .attr('clip-path', 'url(#clip_visid3b5a4654-2445-11e7-8bc6-002590fb6afc_chart1_haxis)');\n    vis.append('clipPath').attr('id', 'clip_visid3b5a4654-2445-11e7-8bc6-002590fb6afc_chart1_haxis').append('polyline')\n      .attr('points', '-1,-1000, -1,-1 -5,5, -1000,5, -100,1000, 10000,1000 10000,-1000');\n    axes.select('g.axis.x').append('text').attr('class', 'title').text('Volume').style('text-anchor', 'middle')\n      .attr('x',geom.inner_rawWidth/2)\n      .attr('y', geom.inner_bottom - 2.0).attr('dy','-0.27em');\n    axes.append('g').attr('class', 'y axis')\n      .attr('clip-path', 'url(#clip_visid3b5a4654-2445-11e7-8bc6-002590fb6afc_chart1_vaxis)');\n    vis.append('clipPath').attr('id', 'clip_visid3b5a4654-2445-11e7-8bc6-002590fb6afc_chart1_vaxis').append('polyline')\n      .attr('points', '-1000,-10000, 10000,-10000, 10000,' + (geom.inner_rawHeight+1) + ', -1,' + (geom.inner_rawHeight+1) + ', -1,' + (geom.inner_rawHeight+5) + ', -1000,' + (geom.inner_rawHeight+5) );\n    axes.select('g.axis.y').append('text').attr('class', 'title').text('Weight').style('text-anchor', 'middle')\n      .attr('x',-geom.inner_rawHeight/2)\n      .attr('y', 4-geom.inner_left).attr('dy', '0.7em').attr('transform', 'rotate(270)');\n\n    var axis_bottom = d3.axisBottom(scale_x).tickSizeInner(3).tickPadding(3).tickSizeOuter(0)\n      .ticks(Math.min(10, Math.round(geom.inner_width / 37.5)));\n    var axis_left = d3.axisLeft(scale_y).tickSizeInner(3).tickPadding(3).tickSizeOuter(0);\n\n    function buildAxes(time) {\n      var axis_x = axes.select('g.axis.x');\n      BrunelD3.transition(axis_x, time).call(axis_bottom.scale(scale_x));\n      var axis_y = axes.select('g.axis.y');\n      BrunelD3.transition(axis_y, time).call(axis_left.scale(scale_y));\n    }\n    zoom.on('zoom', function(t, time) {\n        t = t ||BrunelD3.restrictZoom(d3.event.transform, geom, this);\n        scale_x = t.rescaleX(base_scales[0]);\n        scale_y = t.rescaleY(base_scales[1]);\n        zoomNode.__zoom = t;\n        build(time || -1);\n    });\n\n    // Define element #1 ///////////////////////////////////////////////////////////////////////////\n\n    elements[0] = function() {\n      var original, processed,           // data sets passed in and then transformed\n        element, data,                   // Brunel element information and brunel data\n        selection, merged;               // D3 selection and merged selection\n      var elementGroup = interior.append('g').attr('class', 'element1'),\n        main = elementGroup.append('g').attr('class', 'main'),\n        labels = BrunelD3.undoTransform(elementGroup.append('g').attr('class', 'labels').attr('aria-hidden', 'true'), elementGroup);\n\n      function makeData() {\n        original = datasets[0];\n        if (filterRows) original = original.retainRows(filterRows);\n        processed = pre(original, 0);\n        processed = post(processed, 0);\n        var f0 = processed.field('volume'),\n          f1 = processed.field('weight'),\n          f2 = processed.field('auth'),\n          f3 = processed.field('#row'),\n          f4 = processed.field('#selection');\n        var keyFunc = function(d) { return f3.value(d) };\n        data = {\n          volume:       function(d) { return f0.value(d.row) },\n          weight:       function(d) { return f1.value(d.row) },\n          auth:         function(d) { return f2.value(d.row) },\n          $row:         function(d) { return f3.value(d.row) },\n          $selection:   function(d) { return f4.value(d.row) },\n          volume_f:     function(d) { return f0.valueFormatted(d.row) },\n          weight_f:     function(d) { return f1.valueFormatted(d.row) },\n          auth_f:       function(d) { return f2.valueFormatted(d.row) },\n          $row_f:       function(d) { return f3.valueFormatted(d.row) },\n          $selection_f: function(d) { return f4.valueFormatted(d.row) },\n          _split:       function(d) { return f2.value(d.row) },\n          _key:         keyFunc,\n          _rows:        BrunelD3.makeRowsWithKeys(keyFunc, processed.rowCount())\n        };\n      }\n      // Aesthetic Functions\n      var scale_color = d3.scaleLinear()\n        .domain([0, 0.125, 0.25, 0.375, 0.5, 0.625, 0.75, 0.875, 1])\n        .interpolate(d3.interpolateHcl)\n        .range([ '#045a8d', '#2b8cbe', '#74a9cf', '#bdc9e1', '#f8efe8', '#fef0d9', \n          '#fdcc8a', '#fc8d59', '#e34a33']);\n      var color = function(d) { return scale_color(data.auth(d)) };\n      BrunelD3.addLegend(legends, 'Auth', scale_color, [1, 0.8, 0.6, 0.4, 0.2, 0]);\n\n      // Build element from data ///////////////////////////////////////////////////////////////////\n\n      function build(transitionMillis) {\n        element = elements[0];\n        var w = geom.default_point_size;\n        var x = function(d) { return scale_x(data.volume(d))};\n        var h = geom.default_point_size;\n        var y = function(d) { return scale_y(data.weight(d))};\n        selection = main.selectAll('.element').data(data._rows, function(d) { return d.key});\n        var added = selection.enter().append('circle')\n          .attr('class', 'element point filled')\n          .style('pointer-events', 'none');\n\n        merged = selection.merge(added);\n        merged.filter(hasData).classed('selected', function(d) { return data.$selection(d) == '\u2713' });\n        BrunelD3.transition(merged, transitionMillis)\n          .attr('cx',function(d) { return scale_x(data.volume(d))})\n          .attr('cy',function(d) { return scale_y(data.weight(d))})\n          .attr('r',geom.default_point_size / 2)\n          .filter(hasData)                         // following only performed for data items\n          .style('fill', color);\n\n        BrunelD3.transition(selection.exit(), transitionMillis/3)\n          .style('opacity', 0.5).each( function() {\n            this.remove(); if (this.__label__) this.__label__.remove()\n        });\n      }\n\n      return {\n        data:           function() { return processed },\n        original:       function() { return original },\n        internal:       function() { return data },\n        selection:      function() { return merged },\n        makeData:       makeData,\n        build:          build,\n        chart:          function() { return charts[0] },\n        group:          function() { return elementGroup },\n        fields: {\n          x:            ['volume'],\n          y:            ['weight'],\n          key:          ['#row'],\n          color:        ['auth']\n        }\n      };\n    }();\n\n    function build(time, noData) {\n      var first = elements[0].data() == null;\n      if (first) time = 0; // No transition for first call\n      buildAxes(time);\n      if ((first || time > -1) && !noData)elements[0].makeData();\n      elements[0].build(time);\n    }\n\n    // Expose the following components of the chart\n    return {\n      elements : elements,\n      interior : interior,\n      scales: {x:scale_x, y:scale_y},\n      zoom: function(params, time) {\n          if (params) zoom.on('zoom').call(zoomNode, params, time);\n          return d3.zoomTransform(zoomNode);\n      },\n      build : build\n    };\n    }();\n\n  function setData(rowData, i) { datasets[i||0] = BrunelD3.makeData(rowData) }\n  function updateAll(time) { charts.forEach(function(x) {x.build(time || 0)}) }\n  function buildAll() {\n    for (var i=0;i<arguments.length;i++) setData(arguments[i], i);\n    updateAll(transitionTime);\n  }\n\n  return {\n    dataPreProcess:     function(f) { if (f) pre = f; return pre },\n    dataPostProcess:    function(f) { if (f) post = f; return post },\n    data:               function(d,i) { if (d) setData(d,i); return datasets[i||0] },\n    visId:              visId,\n    build:              buildAll,\n    rebuild:            updateAll,\n    charts:             charts\n  }\n}\n\n// Data Tables /////////////////////////////////////////////////////////////////////////////////////\n\nvar table1 = {\n   names: ['volume', 'weight', 'auth'], \n   options: ['numeric', 'numeric', 'numeric'], \n   rows: [[0.745, 14.385, 1], [0.394, 5.016, 0], [0.384, 7.246, 1], [0.574, 9.45, 1],\n  [0.603, 8.198, 0], [0.541, 8.347, 1], [0.904, 10.703, 0], [0.523, 6.935, 0], [1.023, 14.243, 0],\n  [0.62, 8.421, 0], [0.857, 11.575, 0], [0.838, 13.992, 1], [1.179, 15.938, 0], [0.85, 13.725, 1],\n  [0.835, 8.192, 0], [0.976, 10.322, 0], [0.686, 12.816, 1], [0.417, 6.809, 1], [1.043, 16.644, 1],\n  [0.529, 8.077, 1], [1.044, 19.904, 1], [0.455, 8.5, 1], [0.639, 5.926, 0], [0.398, 6.817, 1],\n  [0.552, 8.339, 1], [0.55, 10.542, 1], [0.455, 7.152, 1], [0.463, 4.788, 0], [0.454, 8.683, 1],\n  [0.828, 10.825, 0], [0.79, 14.52, 1], [0.516, 5.787, 0], [0.617, 7.87, 0], [0.423, 7.723, 1],\n  [0.858, 9.977, 0], [0.475, 8.302, 1], [0.815, 7.864, 0], [0.903, 11.901, 0], [0.57, 7.655, 0],\n  [1.062, 17.525, 1], [0.667, 6.714, 0], [0.565, 8.749, 1], [0.617, 9.539, 1], [0.928, 16.72, 1],\n  [0.959, 16.634, 1], [0.681, 8.818, 0], [0.94, 10.094, 0], [0.848, 8.164, 0], [0.474, 4.721, 0],\n  [0.833, 7.247, 0], [1.067, 11.838, 0], [0.861, 9.467, 0], [0.923, 16.665, 1], [0.814, 13.61, 1],\n  [0.905, 16.706, 1], [0.999, 16.593, 1], [0.804, 15.287, 1], [0.696, 10.524, 1], [0.984, 11.214, 0],\n  [0.358, 6.572, 1], [1.1, 17.736, 1], [0.748, 8.805, 0], [0.995, 19.012, 1], [0.489, 4.374, 0],\n  [0.979, 16.502, 1], [0.868, 16.005, 1], [1.09, 10.169, 0], [0.358, 6.195, 1], [0.96, 11.662, 0],\n  [0.474, 6.096, 0], [1.1, 14.488, 0], [0.583, 6.277, 0], [0.618, 11.126, 1], [1.249, 13.577, 0],\n  [0.423, 8.093, 1], [0.558, 6.818, 0], [0.531, 8.702, 1], [0.656, 5.958, 0], [0.488, 8.754, 1],\n  [0.956, 17.625, 1], [0.586, 8.297, 0], [0.57, 5.048, 0], [0.49, 8.185, 1], [0.832, 15.251, 1],\n  [0.905, 7.858, 0], [1.073, 18.935, 1], [0.591, 5.84, 0], [0.361, 5.991, 1], [0.909, 12.05, 0],\n  [0.469, 4.783, 0], [0.647, 10.476, 1], [0.999, 13.243, 0], [0.534, 7.537, 0], [0.47, 5.889, 0],\n  [0.582, 10.043, 1], [0.381, 4.726, 0], [0.406, 3.437, 0], [0.42, 6.815, 1], [0.385, 6.376, 1],\n  [0.532, 6.499, 0]]\n};\n\n// Call Code to Build the system ///////////////////////////////////////////////////////////////////\n\nvar v = new BrunelVis('visid3b5a4654-2445-11e7-8bc6-002590fb6afc');\nv.build(table1);\n\n    });\n});", 
                        "text/plain": "<IPython.core.display.Javascript object>"
                    }
                }
            ], 
            "source": "codeauth_df = codeauth.toDF([\"volume\",\"weight\",\"auth\"]).toPandas()\n\n%brunel data('codeauth_df') x(volume) y(weight) color(auth) ", 
            "metadata": {
                "collapsed": false, 
                "scrolled": true
            }
        }, 
        {
            "cell_type": "markdown", 
            "source": "<h2>\u6559\u5e2b\u30c7\u30fc\u30bf\u3092\u3082\u3068\u306bSVM\u3067\u30e2\u30c7\u30eb\u3092\u4f5c\u6210\u3057\u307e\u3059</h2>\n\u672c\u6765\u306f\u30c7\u30fc\u30bf\u3092\u5206\u5272\u3059\u3079\u304d\u3060\u304c\u4eca\u56de\u306f\u8a13\u7df4\u30c7\u30fc\u30bf\u3092\u305d\u306e\u307e\u307e\u4f7f\u3044\u307e\u3059\u3002", 
            "metadata": {}
        }, 
        {
            "cell_type": "code", 
            "execution_count": 5, 
            "outputs": [], 
            "source": "def makeLabelPoint(line):\n    tokens = line\n    label = line[2]\n    features = line[0:2]\n    return LabeledPoint(label, features)\n\nparsedData = codeauth.map(makeLabelPoint)\nmodel = SVMWithSGD.train(parsedData, iterations=1000)", 
            "metadata": {
                "collapsed": false, 
                "scrolled": true
            }
        }, 
        {
            "cell_type": "markdown", 
            "source": "\u5b66\u7fd2\u30c7\u30fc\u30bf\u3092\u4f7f\u3063\u3066\u30e2\u30c7\u30eb\u306e\u7cbe\u5ea6\u3092\u78ba\u8a8d\u3057\u307e\u3059\u3002<br>\n\u8a13\u7df4\u30c7\u30fc\u30bf\u3092\u7528\u3044\u3066\u8a55\u4fa1\u3092\u884c\u3044\u307e\u3059\u3002", 
            "metadata": {}
        }, 
        {
            "cell_type": "code", 
            "execution_count": null, 
            "outputs": [], 
            "source": "labelsAndPreds = parsedData.map(lambda x: (x.label, float(model.predict(x.features))))\ntrainErr = labelsAndPreds.filter(lambda (x, y): x != y).count() / float(parsedData.count())\nprint(\"Training Error = \" + str(trainErr))", 
            "metadata": {
                "collapsed": false, 
                "scrolled": true
            }
        }, 
        {
            "cell_type": "markdown", 
            "source": "<h2>\u4f5c\u6210\u3055\u308c\u305f\u30e2\u30c7\u30eb\u3092\u3082\u3068\u306b\u5206\u985e\u3092\u5b9f\u884c\u3057\u30b0\u30e9\u30d5\u306b\u30d7\u30ed\u30c3\u30c8\u3057\u307e\u3059</h2>", 
            "metadata": {}
        }, 
        {
            "cell_type": "code", 
            "execution_count": null, 
            "outputs": [], 
            "source": "fname2 = os.getcwd()  + \"/CodeIQ_mycoins.txt\"\ncodecoin = sc.textFile(fname2).map(lambda line: line.split(\" \"))\n\ntype(codecoin)\n\nfor i in codecoin.take(codecoin.count()):\n    print \"\u30e2\u30c7\u30eb\u306b\u3088\u308b\u5224\u5b9a\u7d50\u679c\uff1a\" + str(model.predict([i[0],i[1]]))", 
            "metadata": {
                "collapsed": false
            }
        }, 
        {
            "cell_type": "code", 
            "execution_count": null, 
            "outputs": [], 
            "source": "codecoin_df = codecoin.map(lambda x: (x[0],x[1],model.predict([x[0],x[1]]))).toDF([\"volume\",\"weight\",\"auth\"]).toPandas()\n\n%brunel data('codecoin_df') x(volume) y(weight) color(auth) :: width=800, height=300", 
            "metadata": {
                "collapsed": false
            }
        }, 
        {
            "cell_type": "code", 
            "execution_count": null, 
            "outputs": [], 
            "source": "codeauth_df = codeauth.toDF([\"volume\",\"weight\",\"auth\"]).toPandas()\n%brunel data('codeauth_df') x(volume) y(weight) color(auth) :: width=800, height=300", 
            "metadata": {
                "collapsed": false
            }
        }, 
        {
            "cell_type": "markdown", 
            "source": "<h2>\u30e2\u30c7\u30eb\u3092\u30bb\u30fc\u30d6\u3057\u307e\u3059</h2>", 
            "metadata": {}
        }, 
        {
            "cell_type": "code", 
            "execution_count": null, 
            "outputs": [], 
            "source": "## Save and load model\n#model.save(sc, \"myModelPath\")\n#sameModel = SVMModel.load(sc, \"myModelPath\")\n", 
            "metadata": {
                "collapsed": true
            }
        }, 
        {
            "cell_type": "code", 
            "execution_count": null, 
            "outputs": [], 
            "source": "", 
            "metadata": {
                "collapsed": true
            }
        }
    ], 
    "nbformat": 4, 
    "nbformat_minor": 0, 
    "metadata": {
        "kernelspec": {
            "language": "python", 
            "display_name": "Python 2 with Spark 1.6", 
            "name": "python2"
        }, 
        "widgets": {
            "state": {}, 
            "version": "1.1.2"
        }, 
        "language_info": {
            "file_extension": ".py", 
            "pygments_lexer": "ipython2", 
            "codemirror_mode": {
                "version": 2, 
                "name": "ipython"
            }, 
            "version": "2.7.11", 
            "mimetype": "text/x-python", 
            "nbconvert_exporter": "python", 
            "name": "python"
        }
    }
}