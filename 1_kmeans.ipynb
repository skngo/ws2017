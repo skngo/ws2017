{
    "metadata": {
        "language_info": {
            "codemirror_mode": {
                "name": "ipython", 
                "version": 2
            }, 
            "name": "python", 
            "version": "2.7.11", 
            "mimetype": "text/x-python", 
            "nbconvert_exporter": "python", 
            "file_extension": ".py", 
            "pygments_lexer": "ipython2"
        }, 
        "kernelspec": {
            "language": "python", 
            "display_name": "Python 2 with Spark 2.0", 
            "name": "python2-spark20"
        }
    }, 
    "nbformat": 4, 
    "cells": [
        {
            "metadata": {
                "collapsed": true
            }, 
            "cell_type": "markdown", 
            "source": "# Spark\u306b\u3088\u308b\u6a5f\u68b0\u5b66\u7fd2\u30c7\u30e2\n## spark.ml\u3092\u4f7f\u3063\u3066\u30af\u30e9\u30b9\u30bf\u30ea\u30f3\u30b0(k-means)\u3092\u5b9f\u884c\u3057\u307e\u3059"
        }, 
        {
            "metadata": {}, 
            "cell_type": "markdown", 
            "source": "\u5143\u30cd\u30bf\uff1ahttp://next.rikunabi.com/tech/docs/ct_s03600.jsp?p=002315<br>\n\u7b2c2\u554f\uff1a\u300c\u98df\u3079\u3089\u308c\u308b\u30ad\u30ce\u30b3\u306f\u3069\u308c\u3060\uff1f\u300d<br>\n\u4e0e\u3048\u3089\u308c\u305f\u30c7\u30fc\u30bf\u70b9\u3092\u30af\u30e9\u30b9\u30bf\u306b\u5206\u985e\u3059\u308b\u3001\u30af\u30e9\u30b9\u30bf\u30ea\u30f3\u30b0\u554f\u984c\uff08\u6559\u5e2b\u306a\u3057\u5b66\u7fd2\uff09\u3067\u3059<br>\n\u6559\u5e2b\u306a\u3057\u5b66\u7fd2\uff08Unsupervised Learning\uff09\u3068\u306f\u3001\u5206\u985e\u6e08\u307f\u306e\u30c7\u30fc\u30bf\uff08\u8a13\u7df4\u30c7\u30fc\u30bf\uff09\u306f\u524d\u3082\u3063\u3066\u7528\u610f\u3055\u308c\u3066\u304a\u3089\u305a\u3001\u4e0e\u3048\u3089\u308c\u305f\u30c7\u30fc\u30bf\u3060\u3051\u304b\u3089\u305d\u306e\u30c7\u30fc\u30bf\u306e\u69cb\u9020\u3084\u7279\u5fb4\u3092\u898b\u51fa\u3059\u624b\u6cd5\u3067\u3059\u3002\u30af\u30e9\u30b9\u30bf\u5206\u985e\u3001\u4e3b\u6210\u5206\u5206\u6790\uff08PCA\uff09\u306a\u3069\u306f\u6559\u5e2b\u306a\u3057\u5b66\u7fd2\u306e\u4ee3\u8868\u7684\u306a\u4f8b\u3067\u3059<br>\n"
        }, 
        {
            "outputs": [], 
            "metadata": {
                "collapsed": false
            }, 
            "execution_count": null, 
            "cell_type": "code", 
            "source": "from pyspark.ml.linalg import Vectors, VectorUDT\nfrom pyspark.sql.types import Row\nfrom pyspark.ml.clustering import KMeans, KMeansModel\nimport numpy as np"
        }, 
        {
            "outputs": [], 
            "metadata": {
                "collapsed": false
            }, 
            "execution_count": null, 
            "cell_type": "code", 
            "source": "if os.path.isfile(\"CodeIQ_data.txt\") != True:\n    !wget https://github.com/skngo/ws2017/raw/master/CodeIQ_data.zip\n    !unzip -j  CodeIQ_data.zip\n    !rm -rf CodeIQ_data.zip \n    print \"Complete Unzip -> CodeIQ_data.txt.\"\nelse:\n    print \"CodeIQ_data.txt exists.\"\n\nif os.path.isfile(\"CodeIQ_eaten.txt\") != True:\n    !wget https://github.com/skngo/ws2017/raw/master/CodeIQ_eaten.zip\n    !unzip -j  CodeIQ_eaten.zip\n    !rm -rf CodeIQ_eaten.zip \n    print \"Complete Unzip -> CodeIQ_eaten.txt\"\nelse:\n    print \"CodeIQ_eaten.txt exists.\""
        }, 
        {
            "metadata": {}, 
            "cell_type": "markdown", 
            "source": "<h2>\u30d5\u30a1\u30a4\u30eb\u3092\u8aad\u307f\u8fbc\u3093\u3067\u53ef\u8996\u5316\u306e\u305f\u3081\u306b\u30b0\u30e9\u30d5\u3068\u3057\u3066\u8868\u793a\u3057\u307e\u3059</h2>\nSpark DataFrame \u3067\u8aad\u307f\u8fbc\u3093\u3060\u30c7\u30fc\u30bf\u3092pandas\u306b\u5909\u63db\u3057\u3066plot\u3092\u5b9f\u884c\u3057\u307e\u3059"
        }, 
        {
            "outputs": [], 
            "metadata": {
                "collapsed": false
            }, 
            "execution_count": null, 
            "cell_type": "code", 
            "source": "fname = os.getcwd()  + \"/CodeIQ_data.txt\"\ndata = sqlContext.read.load(fname, format='com.databricks.spark.csv', header='false', inferSchema='true',delimiter =\" \")\ndata.printSchema()\ndata.first()"
        }, 
        {
            "outputs": [], 
            "metadata": {
                "collapsed": false
            }, 
            "execution_count": null, 
            "cell_type": "code", 
            "source": "p_data = data.toPandas()\n\n%matplotlib inline\np_data.plot(kind='scatter',x='_c0',y='_c1')"
        }, 
        {
            "metadata": {}, 
            "cell_type": "markdown", 
            "source": "## \u30af\u30e9\u30b9\u30bf\u30ea\u30f3\u30b0\u3092\u5b9f\u884c\u3057\u307e\u3059\nspark.ml\u3067\u306f"
        }, 
        {
            "outputs": [], 
            "metadata": {
                "collapsed": false
            }, 
            "execution_count": null, 
            "cell_type": "code", 
            "source": "data1 = data.rdd.map(lambda r: Row(_c0 = r._c0,_c1 = r._c1,features = Vectors.dense(r._c0, r._c1))).toDF()\n\nkmeans_estimator = KMeans().setFeaturesCol(\"features\").setPredictionCol(\"prediction\").setK(3)\nmodel = kmeans_estimator.fit(data1)\npredicted_df = model.transform(data1).drop(\"features\")\npredicted_df.printSchema()\n\npredicted_df.filter(predicted_df[\"prediction\"] == 1).count()\n"
        }, 
        {
            "outputs": [], 
            "metadata": {
                "collapsed": false, 
                "scrolled": true
            }, 
            "execution_count": null, 
            "cell_type": "code", 
            "source": "predicted_pdf = predicted_df.toPandas()\npredicted_pdf"
        }, 
        {
            "outputs": [], 
            "metadata": {
                "collapsed": false
            }, 
            "execution_count": null, 
            "cell_type": "code", 
            "source": "predicted_pdf.plot(kind='scatter',x='_c0',y='_c1',c=predicted_pdf.prediction, cmap='rainbow')"
        }, 
        {
            "outputs": [], 
            "metadata": {
                "collapsed": true
            }, 
            "execution_count": null, 
            "cell_type": "code", 
            "source": ""
        }
    ], 
    "nbformat_minor": 0
}